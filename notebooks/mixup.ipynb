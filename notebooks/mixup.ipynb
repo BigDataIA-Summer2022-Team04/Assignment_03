{
 "cells": [
  {
   "cell_type": "markdown",
   "metadata": {},
   "source": [
    "# Data Augmentation with Mixup\n",
    "\n",
    "## [Introduction](https://keras.io/examples/vision/mixup/)\n",
    "**Mixup** is a *domain-agnostic* data augmentation technique proposed in [mixup: Beyond Empirical Risk Minimization](https://arxiv.org/abs/1710.09412) by Zhang et al. It's implemented with the following formulas:\n",
    "$$\n",
    "\\overline{x} = \\lambda x_{i} + (1-\\lambda)x_{j}\n",
    "$$\n",
    "$$\n",
    "\\overline{y} = \\lambda y_{i} + (1-\\lambda)y_{j}\n",
    "$$\n",
    "(Note that the lambda values are values with the `[0, 1]` range and are sampled from the [Beta distribution](https://en.wikipedia.org/wiki/Beta_distribution).)\n",
    "\n",
    "The technique is quite systematically named - we are literally mixing up the features and their corresponding labels. Implementation-wise it's simple. Neural networks are prone to [memorizing corrupt labels](https://arxiv.org/abs/1611.03530). mixup relaxes this by combining different features with one another (same happens for the labels too) so that a network does not get overconfident about the relationship between the features and their labels.\n",
    "\n",
    "mixup is specifically useful when we are not sure about selecting a set of augmentation transforms for a given dataset, medical imaging datasets, for example. mixup can be extended to a variety of data modalities such as computer vision, natural language processing, speech, and so on.\n",
    "\n",
    "This  requires TensorFlow 2.4 or higher.\n",
    "\n",
    "---"
   ]
  },
  {
   "cell_type": "code",
   "execution_count": 15,
   "metadata": {},
   "outputs": [],
   "source": [
    "import os\n",
    "import glob\n",
    "import numpy as np\n",
    "import pandas as pd\n",
    "import matplotlib.pyplot as plt\n",
    "import tensorflow as tf\n",
    "from tensorflow import keras\n",
    "from tensorflow.keras import layers"
   ]
  },
  {
   "cell_type": "markdown",
   "metadata": {},
   "source": [
    "## Read files"
   ]
  },
  {
   "cell_type": "code",
   "execution_count": 3,
   "metadata": {},
   "outputs": [],
   "source": [
    "def_front = glob.glob('/Users/piyush/Sandbox/Assignment_03/dataset/casting_data/train/def_front/*.*')\n",
    "ok_front = glob.glob('/Users/piyush/Sandbox/Assignment_03/dataset/casting_data/train/ok_front/*.*')"
   ]
  },
  {
   "cell_type": "code",
   "execution_count": 2,
   "metadata": {},
   "outputs": [],
   "source": [
    "data = []\n",
    "labels = []"
   ]
  },
  {
   "cell_type": "code",
   "execution_count": 4,
   "metadata": {},
   "outputs": [],
   "source": [
    "for i in def_front:   \n",
    "    image=tf.keras.preprocessing.image.load_img(i, color_mode='grayscale', \n",
    "    target_size= (28,28))\n",
    "    image=np.array(image)\n",
    "    data.append(image)\n",
    "    labels.append(0)\n",
    "\n",
    "for i in ok_front:   \n",
    "    image=tf.keras.preprocessing.image.load_img(i, color_mode='grayscale', \n",
    "    target_size= (28,28))\n",
    "    image=np.array(image)\n",
    "    data.append(image)\n",
    "    labels.append(1)\n"
   ]
  },
  {
   "cell_type": "code",
   "execution_count": 8,
   "metadata": {},
   "outputs": [],
   "source": [
    "data = np.array(data)\n",
    "labels = np.array(labels, dtype=np.uint8)"
   ]
  },
  {
   "cell_type": "markdown",
   "metadata": {},
   "source": [
    "## Split dataset"
   ]
  },
  {
   "cell_type": "code",
   "execution_count": 70,
   "metadata": {},
   "outputs": [],
   "source": [
    "from sklearn.model_selection import train_test_split\n",
    "x_train, x_test, y_train, y_test = train_test_split(data, labels, test_size=0.2, random_state=42)"
   ]
  },
  {
   "cell_type": "code",
   "execution_count": 71,
   "metadata": {},
   "outputs": [],
   "source": [
    "x_train = x_train.astype(\"float32\") / 255.0\n",
    "x_train = np.reshape(x_train, (-1, 28, 28, 1))\n",
    "y_train = tf.one_hot(y_train, 2)\n",
    "\n",
    "x_test = x_test.astype(\"float32\") / 255.0\n",
    "x_test = np.reshape(x_test, (-1, 28, 28, 1))\n",
    "y_test = tf.one_hot(y_test, 2)"
   ]
  },
  {
   "cell_type": "code",
   "execution_count": 72,
   "metadata": {},
   "outputs": [
    {
     "name": "stdout",
     "output_type": "stream",
     "text": [
      "5306\n",
      "5306\n",
      "1327\n",
      "1327\n"
     ]
    }
   ],
   "source": [
    "print(len(x_train))\n",
    "print(len(y_train))\n",
    "print(len(x_test))\n",
    "print(len(y_test))"
   ]
  },
  {
   "cell_type": "code",
   "execution_count": 73,
   "metadata": {},
   "outputs": [],
   "source": [
    "AUTO = tf.data.AUTOTUNE\n",
    "BATCH_SIZE = 32\n",
    "EPOCHS = 1"
   ]
  },
  {
   "cell_type": "markdown",
   "metadata": {},
   "source": [
    "## Shuffle dataset"
   ]
  },
  {
   "cell_type": "code",
   "execution_count": 74,
   "metadata": {},
   "outputs": [],
   "source": [
    "train_ds_one = (\n",
    "    tf.data.Dataset.from_tensor_slices((x_train, y_train))\n",
    "    .shuffle(BATCH_SIZE * 10)\n",
    "    .batch(BATCH_SIZE)\n",
    ")\n",
    "train_ds_two = (\n",
    "    tf.data.Dataset.from_tensor_slices((x_train, y_train))\n",
    "    .shuffle(BATCH_SIZE * 10)\n",
    "    .batch(BATCH_SIZE)\n",
    ")"
   ]
  },
  {
   "cell_type": "code",
   "execution_count": 75,
   "metadata": {},
   "outputs": [],
   "source": [
    "train_ds = tf.data.Dataset.zip((train_ds_one, train_ds_two))"
   ]
  },
  {
   "cell_type": "code",
   "execution_count": 76,
   "metadata": {},
   "outputs": [],
   "source": [
    "val_ds = tf.data.Dataset.from_tensor_slices((x_test, y_test)).batch(BATCH_SIZE)"
   ]
  },
  {
   "cell_type": "markdown",
   "metadata": {},
   "source": [
    "## Mixup functions"
   ]
  },
  {
   "cell_type": "code",
   "execution_count": 77,
   "metadata": {},
   "outputs": [],
   "source": [
    "def sample_beta_distribution(size, concentration_0=0.2, concentration_1=0.2):\n",
    "    gamma_1_sample = tf.random.gamma(shape=[size], alpha=concentration_1)\n",
    "    gamma_2_sample = tf.random.gamma(shape=[size], alpha=concentration_0)\n",
    "    return gamma_1_sample / (gamma_1_sample + gamma_2_sample)\n",
    "\n",
    "\n",
    "def mix_up(ds_one, ds_two, alpha=0.2):\n",
    "    # Unpack two datasets\n",
    "    images_one, labels_one = ds_one\n",
    "    images_two, labels_two = ds_two\n",
    "    batch_size = tf.shape(images_one)[0]\n",
    "\n",
    "    # Sample lambda and reshape it to do the mixup\n",
    "    l = sample_beta_distribution(batch_size, alpha, alpha)\n",
    "    x_l = tf.reshape(l, (batch_size, 1, 1, 1))\n",
    "    y_l = tf.reshape(l, (batch_size, 1))\n",
    "\n",
    "    # Perform mixup on both images and labels by combining a pair of images/labels\n",
    "    # (one from each dataset) into one image/label\n",
    "    images = images_one * x_l + images_two * (1 - x_l)\n",
    "    labels = labels_one * y_l + labels_two * (1 - y_l)\n",
    "    return (images, labels)"
   ]
  },
  {
   "cell_type": "code",
   "execution_count": 78,
   "metadata": {},
   "outputs": [],
   "source": [
    "# First create the new dataset using our `mix_up` utility\n",
    "train_ds_mu = train_ds.map(\n",
    "    lambda ds_one, ds_two: mix_up(ds_one, ds_two, alpha=0.2), num_parallel_calls=AUTO\n",
    ")"
   ]
  },
  {
   "cell_type": "markdown",
   "metadata": {},
   "source": [
    "## Preview mixup images"
   ]
  },
  {
   "cell_type": "code",
   "execution_count": 79,
   "metadata": {},
   "outputs": [
    {
     "name": "stdout",
     "output_type": "stream",
     "text": [
      "[0.015348970890045166, 0.9846510291099548]\n",
      "[1.0, 0.0]\n",
      "[0.049706265330314636, 0.9502937197685242]\n",
      "[0.13321369886398315, 0.8667863011360168]\n",
      "[0.0, 1.0]\n",
      "[0.9996296763420105, 0.00037032098043709993]\n",
      "[1.0, 0.0]\n",
      "[1.0, 0.0]\n",
      "[1.0, 0.0]\n"
     ]
    },
    {
     "data": {
      "text/plain": [
       "[]"
      ]
     },
     "execution_count": 79,
     "metadata": {},
     "output_type": "execute_result"
    },
    {
     "data": {
      "image/png": "[encoded data removed]",
      "text/plain": [
       "<Figure size 720x720 with 9 Axes>"
      ]
     },
     "metadata": {
      "needs_background": "light"
     },
     "output_type": "display_data"
    }
   ],
   "source": [
    "# Let's preview 9 samples from the dataset\n",
    "sample_images, sample_labels = next(iter(train_ds_mu))\n",
    "plt.figure(figsize=(10, 10))\n",
    "plt.title(\"Data Augmentation using Mixup\")\n",
    "for i, (image, label) in enumerate(zip(sample_images[:9], sample_labels[:9])):\n",
    "    ax = plt.subplot(3, 3, i + 1)\n",
    "    plt.imshow(image.numpy().squeeze())\n",
    "    print(label.numpy().tolist())\n",
    "    plt.axis(\"off\")\n",
    "plt.plot()\n",
    "# plt.savefig(r\"C:\\Users\\PiyushAnand\\Desktop\\CNN\\images\\mixup.jpg\")"
   ]
  },
  {
   "cell_type": "markdown",
   "metadata": {},
   "source": [
    "## Train Model"
   ]
  },
  {
   "cell_type": "code",
   "execution_count": 80,
   "metadata": {},
   "outputs": [],
   "source": [
    "def get_training_model():\n",
    "    model = tf.keras.Sequential(\n",
    "        [\n",
    "            layers.Conv2D(16, (5, 5), activation=\"relu\", input_shape=(28, 28, 1)),\n",
    "            layers.MaxPooling2D(pool_size=(2, 2)),\n",
    "            layers.Conv2D(32, (5, 5), activation=\"relu\"),\n",
    "            layers.MaxPooling2D(pool_size=(2, 2)),\n",
    "            layers.Dropout(0.2),\n",
    "            layers.GlobalAvgPool2D(),\n",
    "            layers.Dense(128, activation=\"relu\"),\n",
    "            layers.Dense(2, activation=\"softmax\"), # Change softmax / sigmoid\n",
    "        ]\n",
    "    )\n",
    "    return model"
   ]
  },
  {
   "cell_type": "code",
   "execution_count": 81,
   "metadata": {},
   "outputs": [],
   "source": [
    "initial_model = get_training_model()\n",
    "initial_model.save_weights(\"initial_weights_mixup_wed_30x30.h5\")"
   ]
  },
  {
   "cell_type": "code",
   "execution_count": 82,
   "metadata": {},
   "outputs": [
    {
     "name": "stdout",
     "output_type": "stream",
     "text": [
      "Epoch 1/15\n",
      "166/166 [==============================] - 4s 18ms/step - loss: 0.6857 - accuracy: 0.5637 - val_loss: 0.6761 - val_accuracy: 0.5863\n",
      "Epoch 2/15\n",
      "166/166 [==============================] - 2s 15ms/step - loss: 0.6747 - accuracy: 0.5695 - val_loss: 0.6117 - val_accuracy: 0.6044\n",
      "Epoch 3/15\n",
      "166/166 [==============================] - 3s 15ms/step - loss: 0.5917 - accuracy: 0.6834 - val_loss: 0.4869 - val_accuracy: 0.7430\n",
      "Epoch 4/15\n",
      "166/166 [==============================] - 3s 15ms/step - loss: 0.4907 - accuracy: 0.7720 - val_loss: 0.3699 - val_accuracy: 0.8455\n",
      "Epoch 5/15\n",
      "166/166 [==============================] - 3s 18ms/step - loss: 0.4332 - accuracy: 0.8151 - val_loss: 0.3107 - val_accuracy: 0.8862\n",
      "Epoch 6/15\n",
      "166/166 [==============================] - 3s 16ms/step - loss: 0.4191 - accuracy: 0.8243 - val_loss: 0.2978 - val_accuracy: 0.8659\n",
      "Epoch 7/15\n",
      "166/166 [==============================] - 3s 18ms/step - loss: 0.3869 - accuracy: 0.8545 - val_loss: 0.3049 - val_accuracy: 0.8757\n",
      "Epoch 8/15\n",
      "166/166 [==============================] - 3s 20ms/step - loss: 0.3712 - accuracy: 0.8571 - val_loss: 0.2602 - val_accuracy: 0.9096\n",
      "Epoch 9/15\n",
      "166/166 [==============================] - 3s 19ms/step - loss: 0.3611 - accuracy: 0.8664 - val_loss: 0.2758 - val_accuracy: 0.8907\n",
      "Epoch 10/15\n",
      "166/166 [==============================] - 3s 17ms/step - loss: 0.3571 - accuracy: 0.8685 - val_loss: 0.2345 - val_accuracy: 0.9118\n",
      "Epoch 11/15\n",
      "166/166 [==============================] - 4s 23ms/step - loss: 0.3537 - accuracy: 0.8703 - val_loss: 0.2328 - val_accuracy: 0.9133\n",
      "Epoch 12/15\n",
      "166/166 [==============================] - 3s 17ms/step - loss: 0.3441 - accuracy: 0.8737 - val_loss: 0.2341 - val_accuracy: 0.9103\n",
      "Epoch 13/15\n",
      "166/166 [==============================] - 3s 16ms/step - loss: 0.3316 - accuracy: 0.8811 - val_loss: 0.2791 - val_accuracy: 0.8787\n",
      "Epoch 14/15\n",
      "166/166 [==============================] - 3s 17ms/step - loss: 0.3243 - accuracy: 0.8896 - val_loss: 0.2172 - val_accuracy: 0.9118\n",
      "Epoch 15/15\n",
      "166/166 [==============================] - 3s 17ms/step - loss: 0.3159 - accuracy: 0.8860 - val_loss: 0.2111 - val_accuracy: 0.9179\n"
     ]
    },
    {
     "data": {
      "text/plain": [
       "<keras.callbacks.History at 0x7ff0da638820>"
      ]
     },
     "execution_count": 82,
     "metadata": {},
     "output_type": "execute_result"
    }
   ],
   "source": [
    "model = get_training_model()\n",
    "model.load_weights(\"initial_weights_mixup_wed_30x30.h5\")\n",
    "model.compile(\n",
    "    loss=\"categorical_crossentropy\", \n",
    "    # loss=tf.keras.losses.SparseCategoricalCrossentropy(from_logits=True),\n",
    "    optimizer=\"adam\", metrics=[\"accuracy\"]) # categorical_crossentropy / binary_crossentropy / sparse_categorical_crossentropy\n",
    "model.fit(train_ds_mu, validation_data=val_ds, epochs=15)\n",
    "\n"
   ]
  },
  {
   "cell_type": "markdown",
   "metadata": {},
   "source": [
    "## Model Train Result\n",
    "\n",
    "Accuracy : 88%\n",
    "\n",
    "## Visualize Training"
   ]
  },
  {
   "cell_type": "code",
   "execution_count": 86,
   "metadata": {},
   "outputs": [],
   "source": [
    "import seaborn as sns\n",
    "sns.set()"
   ]
  },
  {
   "cell_type": "code",
   "execution_count": 87,
   "metadata": {},
   "outputs": [
    {
     "data": {
      "image/png": "[encoded data removed]",
      "text/plain": [
       "<Figure size 576x432 with 1 Axes>"
      ]
     },
     "metadata": {},
     "output_type": "display_data"
    }
   ],
   "source": [
    "import seaborn as sns\n",
    "sns.set()\n",
    "plt.subplots(figsize = (8, 6))\n",
    "sns.lineplot(data = pd.DataFrame(model.history.history,\n",
    "                                 index = range(1, 1+len(model.history.epoch))))\n",
    "plt.title(\"TRAINING EVALUATION\", fontweight = \"bold\", fontsize = 20)\n",
    "plt.xlabel(\"Epochs\")\n",
    "plt.ylabel(\"Metrics\")\n",
    "\n",
    "plt.legend(labels = ['val loss', 'val accuracy', 'train loss', 'train accuracy'])\n",
    "plt.show()"
   ]
  },
  {
   "cell_type": "markdown",
   "metadata": {},
   "source": [
    "## Test on test dataset"
   ]
  },
  {
   "cell_type": "code",
   "execution_count": 16,
   "metadata": {},
   "outputs": [
    {
     "name": "stderr",
     "output_type": "stream",
     "text": [
      "2022-07-14 22:41:04.961879: I tensorflow/core/platform/cpu_feature_guard.cc:193] This TensorFlow binary is optimized with oneAPI Deep Neural Network Library (oneDNN) to use the following CPU instructions in performance-critical operations:  AVX2 FMA\n",
      "To enable them in other operations, rebuild TensorFlow with the appropriate compiler flags.\n"
     ]
    }
   ],
   "source": [
    "def_front_test = glob.glob('/Users/piyush/Sandbox/Assignment_03/dataset/casting_data/train/def_front/*.*')\n",
    "ok_front_test = glob.glob('/Users/piyush/Sandbox/Assignment_03/dataset/casting_data/train/ok_front/*.*')\n",
    "\n",
    "data_test = []\n",
    "labels_test = []\n",
    "\n",
    "for i in def_front_test:   \n",
    "    image=tf.keras.preprocessing.image.load_img(i, color_mode='grayscale', \n",
    "    target_size= (28,28))\n",
    "    image=np.array(image)\n",
    "    data_test.append(image)\n",
    "    labels_test.append(0)\n",
    "\n",
    "for i in ok_front_test:   \n",
    "    image=tf.keras.preprocessing.image.load_img(i, color_mode='grayscale', \n",
    "    target_size= (28,28))\n",
    "    image=np.array(image)\n",
    "    data_test.append(image)\n",
    "    labels_test.append(1)\n",
    "\n",
    "data_test = np.array(data_test)\n",
    "labels_test = np.array(labels_test, dtype=np.uint8)\n",
    "\n",
    "data_test = data_test.astype(\"float32\") / 255.0\n",
    "data_test = np.reshape(data_test, (-1, 28, 28, 1))\n",
    "labels_test = tf.one_hot(labels_test, 2)\n",
    "\n",
    "\n",
    "test_ds = tf.data.Dataset.from_tensor_slices((data_test, labels_test)).batch(32)"
   ]
  },
  {
   "cell_type": "code",
   "execution_count": 89,
   "metadata": {},
   "outputs": [
    {
     "name": "stdout",
     "output_type": "stream",
     "text": [
      "208/208 [==============================] - 1s 5ms/step - loss: 0.1939 - accuracy: 0.9329\n",
      "Test accuracy: 93.29%\n"
     ]
    }
   ],
   "source": [
    "_, test_acc = model.evaluate(test_ds)\n",
    "print(\"Test accuracy: {:.2f}%\".format(test_acc * 100))"
   ]
  },
  {
   "cell_type": "markdown",
   "metadata": {},
   "source": [
    "## Test Accuracy\n",
    "\n",
    "Accuracy : 93%"
   ]
  },
  {
   "cell_type": "code",
   "execution_count": 90,
   "metadata": {},
   "outputs": [
    {
     "name": "stderr",
     "output_type": "stream",
     "text": [
      "WARNING:absl:Found untraced functions such as _jit_compiled_convolution_op, _jit_compiled_convolution_op while saving (showing 2 of 2). These functions will not be directly callable after loading.\n"
     ]
    },
    {
     "name": "stdout",
     "output_type": "stream",
     "text": [
      "INFO:tensorflow:Assets written to: /Users/piyush/Sandbox/Assignment_03/notebooks/mixup/assets\n"
     ]
    },
    {
     "name": "stderr",
     "output_type": "stream",
     "text": [
      "INFO:tensorflow:Assets written to: /Users/piyush/Sandbox/Assignment_03/notebooks/mixup/assets\n"
     ]
    }
   ],
   "source": [
    "model.save('/Users/piyush/Sandbox/Assignment_03/notebooks/mixup')"
   ]
  },
  {
   "cell_type": "markdown",
   "metadata": {},
   "source": [
    "## Predict sample for one image"
   ]
  },
  {
   "cell_type": "code",
   "execution_count": null,
   "metadata": {},
   "outputs": [],
   "source": [
    "model_mixup = tf.keras.models.load_model(\"/Users/piyush/Sandbox/API_03/models/mixup\")"
   ]
  },
  {
   "cell_type": "code",
   "execution_count": 72,
   "metadata": {},
   "outputs": [],
   "source": [
    "image=tf.keras.preprocessing.image.load_img(\"/Users/piyush/Sandbox/Assignment_03/dataset/casting_data/test/def_front/cast_def_0_242.jpeg\", color_mode='grayscale', target_size= (28,28))\n",
    "image=np.array(image)\n",
    "image = image.astype(\"float32\") / 255.0\n",
    "image = np.reshape(image, (-1, 28, 28, 1))"
   ]
  },
  {
   "cell_type": "code",
   "execution_count": 75,
   "metadata": {},
   "outputs": [
    {
     "name": "stdout",
     "output_type": "stream",
     "text": [
      "1/1 [==============================] - 0s 52ms/step\n"
     ]
    }
   ],
   "source": [
    "pred = model_mixup.predict(image)"
   ]
  },
  {
   "cell_type": "code",
   "execution_count": 76,
   "metadata": {},
   "outputs": [
    {
     "data": {
      "text/plain": [
       "array([[0.8619929 , 0.13800707]], dtype=float32)"
      ]
     },
     "execution_count": 76,
     "metadata": {},
     "output_type": "execute_result"
    }
   ],
   "source": [
    "pred"
   ]
  }
 ],
 "metadata": {
  "kernelspec": {
   "display_name": "Python 3.9.13 ('cnn': venv)",
   "language": "python",
   "name": "python3"
  },
  "language_info": {
   "codemirror_mode": {
    "name": "ipython",
    "version": 3
   },
   "file_extension": ".py",
   "mimetype": "text/x-python",
   "name": "python",
   "nbconvert_exporter": "python",
   "pygments_lexer": "ipython3",
   "version": "3.9.13"
  },
  "orig_nbformat": 4,
  "vscode": {
   "interpreter": {
    "hash": "367e9232bcac1b77bd31c6568bb60fd9318e028de0ea57dc8f779f557bbcb936"
   }
  }
 },
 "nbformat": 4,
 "nbformat_minor": 2
}
